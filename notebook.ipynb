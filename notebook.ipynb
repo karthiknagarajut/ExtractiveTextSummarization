{
 "cells": [
  {
   "cell_type": "markdown",
   "metadata": {},
   "source": [
    "Simple Extractive Text Summarization Model"
   ]
  },
  {
   "cell_type": "code",
   "execution_count": 1,
   "metadata": {},
   "outputs": [
    {
     "name": "stdout",
     "output_type": "stream",
     "text": [
      "Note: you may need to restart the kernel to use updated packages.\n"
     ]
    }
   ],
   "source": [
    "#1)Installing scikit-learn & nltk Packages\n",
    "%pip install scikit-learn nltk ipywidgets --quiet"
   ]
  },
  {
   "cell_type": "code",
   "execution_count": 2,
   "metadata": {},
   "outputs": [],
   "source": [
    "#2)Importing required libraries\n",
    "import nltk \n",
    "from sklearn.feature_extraction.text import TfidfVectorizer\n",
    "from sklearn.metrics.pairwise import cosine_similarity\n",
    "import heapq"
   ]
  },
  {
   "cell_type": "code",
   "execution_count": 3,
   "metadata": {},
   "outputs": [
    {
     "name": "stderr",
     "output_type": "stream",
     "text": [
      "[nltk_data] Downloading package punkt to\n",
      "[nltk_data]     C:\\Users\\karth\\AppData\\Roaming\\nltk_data...\n",
      "[nltk_data]   Package punkt is already up-to-date!\n",
      "[nltk_data] Downloading package stopwords to\n",
      "[nltk_data]     C:\\Users\\karth\\AppData\\Roaming\\nltk_data...\n",
      "[nltk_data]   Package stopwords is already up-to-date!\n"
     ]
    },
    {
     "data": {
      "text/plain": [
       "True"
      ]
     },
     "execution_count": 3,
     "metadata": {},
     "output_type": "execute_result"
    }
   ],
   "source": [
    "#3)Downloading required nltk datasets\n",
    "nltk.download('punkt')\n",
    "nltk.download('stopwords')"
   ]
  },
  {
   "cell_type": "code",
   "execution_count": 4,
   "metadata": {},
   "outputs": [],
   "source": [
    "#4)Text Preprocessing function\n",
    "from nltk.corpus import stopwords\n",
    "from nltk.tokenize import sent_tokenize,word_tokenize\n",
    "\n",
    "def preprocess_text(text):\n",
    "    stop_words=set(stopwords.words('english'))\n",
    "    sentences=sent_tokenize(text)\n",
    "    clean_sentences=[]\n",
    "\n",
    "    for sentence in sentences:\n",
    "        words=word_tokenize(sentence.lower())\n",
    "        clean_words=[word for word in words if word.isalnum() and word not in stop_words]\n",
    "        clean_sentences.append(\" \".join(clean_words))\n",
    "    return clean_sentences,sentences \n"
   ]
  },
  {
   "cell_type": "code",
   "execution_count": null,
   "metadata": {},
   "outputs": [],
   "source": [
    "#5)TF-IDF Vectorization & Sentence Similarity Calculation\n",
    "def summarize_text(text,num_sentences=3):\n",
    "    clean_sentences,original_setences=preprocess_text(text)\n",
    "\n",
    "    tfidfVectorizer=TfidfVectorizer()\n",
    "    tfidf_matrix=tfidfVectorizer.fit_transform(clean_sentences)\n",
    "\n",
    "    cosine_similarites=cosine_similarity(tfidf_matrix,tfidf_matrix)\n",
    "    sentence_scores=cosine_similarites.sum(axis=1)\n",
    "    top_sentence_indices=heapq.nlargest(num_senteces,range(len(sentence_scores)),key=sentence_scores.take)\n",
    "    summary=[original_setences[i] for i in sorted(top_sentence_indices)]\n",
    "    \n",
    "    return \" \".join(summary)\n"
   ]
  },
  {
   "cell_type": "code",
   "execution_count": 6,
   "metadata": {},
   "outputs": [],
   "source": [
    "#6)This section allows users to input text and interactively generate summaries\n",
    "import ipywidgets as widgets\n",
    "\n",
    "output = widgets.Output()\n",
    "\n",
    "text_input = widgets.Textarea(\n",
    "    value='',\n",
    "    placeholder='Type something...',\n",
    "    description='Input text:',\n",
    "    disabled=False,\n",
    "    layout=widgets.Layout(width='500px', height='200px')\n",
    ")\n",
    "\n",
    "num_sentences_input = widgets.IntText(\n",
    "    value=0,\n",
    "    description='Total sentences:',\n",
    "    disabled=False\n",
    ")\n",
    "\n",
    "submit_btn = widgets.Button(\n",
    "    description='Submit',\n",
    "    button_style='info'\n",
    ")\n"
   ]
  },
  {
   "cell_type": "code",
   "execution_count": 7,
   "metadata": {},
   "outputs": [],
   "source": [
    "#7)Handling User Input\n",
    "def process_input(_):\n",
    "    text = text_input.value\n",
    "    total_sentences = num_sentences_input.value\n",
    "\n",
    "    with output:\n",
    "        output.clear_output()\n",
    "        print(summarize_text(text, num_sentences=total_sentences))\n",
    "\n",
    "submit_btn.on_click(process_input)\n"
   ]
  },
  {
   "cell_type": "code",
   "execution_count": null,
   "metadata": {},
   "outputs": [],
   "source": [
    "#8)Display the Interactive Layout\n",
    "layout = widgets.VBox([\n",
    "    text_input,\n",
    "    num_sentences_input,\n",
    "    submit_btn,\n",
    "    output\n",
    "])\n",
    "\n",
    "layout\n"
   ]
  },
  {
   "cell_type": "markdown",
   "metadata": {},
   "source": []
  }
 ],
 "metadata": {
  "kernelspec": {
   "display_name": "Python 3",
   "language": "python",
   "name": "python3"
  },
  "language_info": {
   "codemirror_mode": {
    "name": "ipython",
    "version": 3
   },
   "file_extension": ".py",
   "mimetype": "text/x-python",
   "name": "python",
   "nbconvert_exporter": "python",
   "pygments_lexer": "ipython3",
   "version": "3.11.2"
  }
 },
 "nbformat": 4,
 "nbformat_minor": 2
}
